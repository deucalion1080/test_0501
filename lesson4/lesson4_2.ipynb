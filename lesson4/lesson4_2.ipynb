{
 "cells": [
  {
   "cell_type": "code",
   "execution_count": null,
   "id": "f8bb3ec4",
   "metadata": {},
   "outputs": [],
   "source": [
    "value:int =  int(input(\"請輸入一個數值:\")) \n",
    "if value >= 120:\n",
    "    if value <=220:\n",
    "        print(\"數值在120~220範圍內!\")\n"
   ]
  },
  {
   "cell_type": "code",
   "execution_count": 2,
   "id": "fca439fd",
   "metadata": {},
   "outputs": [
    {
     "name": "stdout",
     "output_type": "stream",
     "text": [
      "大於220!\n"
     ]
    }
   ],
   "source": [
    "value:int =  int(input(\"請輸入一個數值:\")) \n",
    "if value < 120:\n",
    "    print(\"小於120!\")\n",
    "if value > 220:\n",
    "    print(\"大於220!\")"
   ]
  },
  {
   "cell_type": "code",
   "execution_count": 4,
   "id": "f8edf842",
   "metadata": {},
   "outputs": [
    {
     "name": "stdout",
     "output_type": "stream",
     "text": [
      "數值在120~220範圍內!\n"
     ]
    }
   ],
   "source": [
    "value:int =  int(input(\"請輸入一個數值:\")) \n",
    "if value >= 120 and value <=220 :\n",
    "    print(\"數值在120~220範圍內!\")"
   ]
  },
  {
   "cell_type": "code",
   "execution_count": 6,
   "id": "4d6ad653",
   "metadata": {},
   "outputs": [
    {
     "name": "stdout",
     "output_type": "stream",
     "text": [
      "數值 小於120 或 大於 220 !!\n"
     ]
    }
   ],
   "source": [
    "value:int =  int(input(\"請輸入一個數值:\")) \n",
    "if value < 120 or value >220 :\n",
    "    print(\"數值 小於120 或 大於 220 !!\")"
   ]
  },
  {
   "cell_type": "code",
   "execution_count": 10,
   "id": "6288213e",
   "metadata": {},
   "outputs": [
    {
     "name": "stdout",
     "output_type": "stream",
     "text": [
      "優等\n"
     ]
    }
   ],
   "source": [
    "score = int(input(\"請輸入一個分數:\"))\n",
    "if score >= 80:\n",
    "    print(\"優等\")\n",
    "elif score >= 60 :\n",
    "    print(\"甲等\")\n",
    "else :\n",
    "    print(\"不及格\")"
   ]
  }
 ],
 "metadata": {
  "kernelspec": {
   "display_name": "base",
   "language": "python",
   "name": "python3"
  },
  "language_info": {
   "codemirror_mode": {
    "name": "ipython",
    "version": 3
   },
   "file_extension": ".py",
   "mimetype": "text/x-python",
   "name": "python",
   "nbconvert_exporter": "python",
   "pygments_lexer": "ipython3",
   "version": "3.12.9"
  }
 },
 "nbformat": 4,
 "nbformat_minor": 5
}
