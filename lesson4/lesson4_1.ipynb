{
 "cells": [
  {
   "cell_type": "code",
   "execution_count": null,
   "id": "79684721",
   "metadata": {},
   "outputs": [],
   "source": [
    "# 單向選擇 有可能執行 也有可能不執行\n",
    "if True:\n",
    "    print(\"這是True的程式區塊\")\n",
    "    print(\"現在是True\")\n",
    "print(\"主應用程式結束\")"
   ]
  },
  {
   "cell_type": "code",
   "execution_count": null,
   "id": "1e42a7eb",
   "metadata": {},
   "outputs": [
    {
     "name": "stdout",
     "output_type": "stream",
     "text": [
      "這是False的程式區塊\n",
      "現在是False\n",
      "主應用程式結束\n"
     ]
    }
   ],
   "source": [
    "# 雙向選擇 一定執行其中一個程式區塊\n",
    "if False:\n",
    "    print(\"這是True的程式區塊\")\n",
    "    print(\"現在是True\")\n",
    "else:\n",
    "    print(\"這是False的程式區塊\")\n",
    "    print(\"現在是False\")\n",
    "print(\"主應用程式結束\")"
   ]
  },
  {
   "cell_type": "code",
   "execution_count": 3,
   "id": "fdc54958",
   "metadata": {},
   "outputs": [
    {
     "name": "stdout",
     "output_type": "stream",
     "text": [
      "不可以考駕照!\n"
     ]
    }
   ],
   "source": [
    "age:int = int(input(\"請輸入您的年齡:\")) \n",
    "# age >= 18 是一個比較運算子\n",
    "if age >= 18 :\n",
    "    print(\"可以考駕照!\")\n",
    "else:\n",
    "    print(\"不可以考駕照!\")"
   ]
  },
  {
   "cell_type": "code",
   "execution_count": null,
   "id": "0c3be9ec",
   "metadata": {},
   "outputs": [
    {
     "name": "stdout",
     "output_type": "stream",
     "text": [
      "輸入有誤!!\n"
     ]
    }
   ],
   "source": [
    "#學生總分為300分\n",
    "#有些學生可以加權加5%\n",
    "try:\n",
    "    scores:int = int(input(\"請輸入學生的分數(最高300分):\")) \n",
    "    add_score:str = input(\"學生是否符合加分條件?(yes or no)\")\n",
    "\n",
    "    if (add_score == \"yes\") :\n",
    "        scores *= 1.05\n",
    "        if scores > 300:\n",
    "            scores = 300          \n",
    "except:\n",
    "    print(\"輸入有誤!!\")\n",
    "print(round(scores))  "
   ]
  },
  {
   "cell_type": "code",
   "execution_count": 16,
   "id": "7e8d68fe",
   "metadata": {},
   "outputs": [
    {
     "name": "stdout",
     "output_type": "stream",
     "text": [
      "210\n",
      "應用程式結束!\n"
     ]
    }
   ],
   "source": [
    "#學生總分為300分\n",
    "#有些學生可以加權加5%\n",
    "try:\n",
    "    scores:int = int(input(\"請輸入學生的分數(最高300分):\")) \n",
    "    if scores > 300:\n",
    "        raise Exception (\"輸入分數超過300分!!\") #自己raise錯誤\n",
    "    add_score:str = input(\"學生是否符合加分條件?(yes or no)\")\n",
    "\n",
    "    if (add_score == \"yes\") :\n",
    "        scores *= 1.05\n",
    "        if scores > 300:\n",
    "            scores = 300          \n",
    "except ValueError:\n",
    "    print(\"輸入有誤!!\")\n",
    "except Exception as e:\n",
    "    print(e)\n",
    "else:\n",
    "    print(round(scores))\n",
    "print(\"應用程式結束!\")  "
   ]
  }
 ],
 "metadata": {
  "kernelspec": {
   "display_name": "base",
   "language": "python",
   "name": "python3"
  },
  "language_info": {
   "codemirror_mode": {
    "name": "ipython",
    "version": 3
   },
   "file_extension": ".py",
   "mimetype": "text/x-python",
   "name": "python",
   "nbconvert_exporter": "python",
   "pygments_lexer": "ipython3",
   "version": "3.12.9"
  }
 },
 "nbformat": 4,
 "nbformat_minor": 5
}
