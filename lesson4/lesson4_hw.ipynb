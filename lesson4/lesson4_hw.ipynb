{
 "cells": [
  {
   "cell_type": "code",
   "execution_count": null,
   "id": "a6f219c5",
   "metadata": {},
   "outputs": [
    {
     "name": "stdout",
     "output_type": "stream",
     "text": [
      "超出範圍!請重新輸入\n",
      "超出範圍!請重新輸入\n",
      "您的身高是:500公分\n",
      "您的體重是:600公斤\n",
      "您的BMI結果是:24.00\n"
     ]
    }
   ],
   "source": [
    "#計算BMI 要偵測錯誤版本!\n",
    "\n",
    "try:\n",
    "    height = eval(input(\"請輸入您的身高(要120~220公分之間):\"))\n",
    "    if height <120 or height >220 :\n",
    "        print(\"超出範圍!請重新輸入\")\n",
    "    weight = eval(input(\"請輸入您的體重(要30~200公斤之間):\"))\n",
    "    if weight <30 or weight >200 :\n",
    "        print(\"超出範圍!請重新輸入\")\n",
    "except :\n",
    "\n",
    "BMI = weight/((height/100)**2)\n",
    "\n",
    "print(f\"您的身高是:{height}公分\")\n",
    "print(f\"您的體重是:{weight}公斤\")\n",
    "print(f\"您的BMI結果是:{BMI:.2f}\")"
   ]
  }
 ],
 "metadata": {
  "kernelspec": {
   "display_name": "base",
   "language": "python",
   "name": "python3"
  },
  "language_info": {
   "codemirror_mode": {
    "name": "ipython",
    "version": 3
   },
   "file_extension": ".py",
   "mimetype": "text/x-python",
   "name": "python",
   "nbconvert_exporter": "python",
   "pygments_lexer": "ipython3",
   "version": "3.12.9"
  }
 },
 "nbformat": 4,
 "nbformat_minor": 5
}
