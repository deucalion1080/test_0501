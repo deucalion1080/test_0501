{
 "cells": [
  {
   "cell_type": "markdown",
   "id": "f64e7481",
   "metadata": {},
   "source": [
    "### list_comprehension(快速建立list)\n",
    "- [expression for item in iterable]\n"
   ]
  },
  {
   "cell_type": "code",
   "execution_count": 2,
   "id": "0ec71ca4",
   "metadata": {},
   "outputs": [
    {
     "name": "stdout",
     "output_type": "stream",
     "text": [
      "1\n",
      "2\n",
      "3\n",
      "4\n",
      "5\n",
      "6\n",
      "7\n",
      "8\n",
      "9\n",
      "10\n"
     ]
    }
   ],
   "source": [
    "for i in range(1,11):\n",
    "    print(i)\n"
   ]
  },
  {
   "cell_type": "code",
   "execution_count": 4,
   "id": "f8917ad8",
   "metadata": {},
   "outputs": [
    {
     "data": {
      "text/plain": [
       "[2, 4, 6, 8, 10, 12, 14, 16, 18, 20]"
      ]
     },
     "execution_count": 4,
     "metadata": {},
     "output_type": "execute_result"
    }
   ],
   "source": [
    "[i*2 for i in range(1,11)]"
   ]
  },
  {
   "cell_type": "code",
   "execution_count": null,
   "id": "18b61433",
   "metadata": {},
   "outputs": [],
   "source": [
    "#- [expression for item in iterable if (條件式)]"
   ]
  },
  {
   "cell_type": "code",
   "execution_count": null,
   "id": "4e9471ec",
   "metadata": {},
   "outputs": [
    {
     "data": {
      "text/plain": [
       "[2, 6, 10, 14, 18]"
      ]
     },
     "execution_count": 6,
     "metadata": {},
     "output_type": "execute_result"
    }
   ],
   "source": [
    "[i*2 for i in range(1,11) if i % 2 == 1 ]\n"
   ]
  },
  {
   "cell_type": "markdown",
   "id": "7093696c",
   "metadata": {},
   "source": [
    "### map() , filter"
   ]
  },
  {
   "cell_type": "code",
   "execution_count": null,
   "id": "fb304aea",
   "metadata": {},
   "outputs": [
    {
     "data": {
      "text/plain": [
       "[{'姓名': '張哞哞', 'age': 30, 'score': 87},\n",
       " {'姓名': '梁哞哞', 'age': 30, 'score': 88},\n",
       " {'姓名': '劉哞哞', 'age': 32, 'score': 89}]"
      ]
     },
     "execution_count": 8,
     "metadata": {},
     "output_type": "execute_result"
    }
   ],
   "source": [
    "#這是多筆相關聯的資料\n",
    "#這是記憶體內的表格資料\n",
    "students = [\n",
    "{\"姓名\":\"張哞哞\" , \"age\":30 , \"score\":87} ,\n",
    "{\"姓名\":\"梁哞哞\" , \"age\":30 , \"score\":88}, #2\n",
    "{\"姓名\":\"劉哞哞\" , \"age\":32 , \"score\":89} #3\n",
    "]\n",
    "students\n"
   ]
  },
  {
   "cell_type": "code",
   "execution_count": 9,
   "id": "1ecaf749",
   "metadata": {},
   "outputs": [
    {
     "name": "stdout",
     "output_type": "stream",
     "text": [
      "{'姓名': '張哞哞', 'age': 30, 'score': 87}\n",
      "{'姓名': '梁哞哞', 'age': 30, 'score': 88}\n",
      "{'姓名': '劉哞哞', 'age': 32, 'score': 89}\n"
     ]
    }
   ],
   "source": [
    "for classs in students :\n",
    "    print(classs)"
   ]
  },
  {
   "cell_type": "code",
   "execution_count": 1,
   "id": "05ace518",
   "metadata": {},
   "outputs": [],
   "source": [
    "students = [\n",
    "    {\"name\" : \"Simon\" , \"math\": 100 ,\"eng\": 95 ,\"sci\": 85 },\n",
    "    {\"name\" : \"Amber\" , \"math\": 100 ,\"eng\": 95 ,\"sci\": 85 },\n",
    "    {\"name\" : \"Tom\" , \"math\": 100 ,\"eng\": 95 ,\"sci\": 85 },\n",
    "    {\"name\" : \"Jonas\" , \"math\": 100 ,\"eng\": 95 ,\"sci\": 85 }\n",
    "]"
   ]
  },
  {
   "cell_type": "code",
   "execution_count": 5,
   "id": "f9933d58",
   "metadata": {},
   "outputs": [
    {
     "name": "stdout",
     "output_type": "stream",
     "text": [
      "{'name': 'Simon', 'math': 100, 'eng': 95, 'sci': 85}\n",
      "{'name': 'Amber', 'math': 100, 'eng': 95, 'sci': 85}\n",
      "{'name': 'Tom', 'math': 100, 'eng': 95, 'sci': 85}\n",
      "{'name': 'Jonas', 'math': 100, 'eng': 95, 'sci': 85}\n"
     ]
    }
   ],
   "source": [
    "for student in students:\n",
    "    if student[\"sci\"] >= 80:\n",
    "        print(student)"
   ]
  },
  {
   "cell_type": "markdown",
   "id": "9e6494d0",
   "metadata": {},
   "source": [
    "### 使用comprehension的技巧"
   ]
  },
  {
   "cell_type": "code",
   "execution_count": 8,
   "id": "d5330699",
   "metadata": {},
   "outputs": [
    {
     "data": {
      "text/plain": [
       "[{'name': 'Simon', 'math': 100, 'eng': 95, 'sci': 85},\n",
       " {'name': 'Amber', 'math': 100, 'eng': 95, 'sci': 85},\n",
       " {'name': 'Tom', 'math': 100, 'eng': 95, 'sci': 85},\n",
       " {'name': 'Jonas', 'math': 100, 'eng': 95, 'sci': 85}]"
      ]
     },
     "execution_count": 8,
     "metadata": {},
     "output_type": "execute_result"
    }
   ],
   "source": [
    "student_80 = [student for student in students if student[\"sci\"] >= 80] #過濾\n",
    "student_80"
   ]
  },
  {
   "cell_type": "markdown",
   "id": "8d888fe1",
   "metadata": {},
   "source": [
    "### 使用filter()的技巧\n",
    "- 說明書\n",
    "- filter(function , iterable)"
   ]
  },
  {
   "cell_type": "code",
   "execution_count": 10,
   "id": "76bedfac",
   "metadata": {},
   "outputs": [
    {
     "data": {
      "text/plain": [
       "[{'name': 'Simon', 'math': 100, 'eng': 95, 'sci': 85},\n",
       " {'name': 'Amber', 'math': 100, 'eng': 95, 'sci': 85},\n",
       " {'name': 'Tom', 'math': 100, 'eng': 95, 'sci': 85},\n",
       " {'name': 'Jonas', 'math': 100, 'eng': 95, 'sci': 85}]"
      ]
     },
     "execution_count": 10,
     "metadata": {},
     "output_type": "execute_result"
    }
   ],
   "source": [
    "def math_grade_90(student):\n",
    "    if student[\"math\"] >= 90:\n",
    "        return student\n",
    "    else:\n",
    "        return None\n",
    "\n",
    "list (filter(math_grade_90 , students ))"
   ]
  }
 ],
 "metadata": {
  "kernelspec": {
   "display_name": "base",
   "language": "python",
   "name": "python3"
  },
  "language_info": {
   "codemirror_mode": {
    "name": "ipython",
    "version": 3
   },
   "file_extension": ".py",
   "mimetype": "text/x-python",
   "name": "python",
   "nbconvert_exporter": "python",
   "pygments_lexer": "ipython3",
   "version": "3.12.9"
  }
 },
 "nbformat": 4,
 "nbformat_minor": 5
}
