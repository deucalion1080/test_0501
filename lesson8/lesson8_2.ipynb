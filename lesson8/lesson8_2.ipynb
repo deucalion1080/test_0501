{
 "cells": [
  {
   "cell_type": "markdown",
   "id": "f64e7481",
   "metadata": {},
   "source": [
    "### list_comprehension(快速建立list)\n",
    "- [expression for item in iterable]\n"
   ]
  },
  {
   "cell_type": "code",
   "execution_count": 2,
   "id": "0ec71ca4",
   "metadata": {},
   "outputs": [
    {
     "name": "stdout",
     "output_type": "stream",
     "text": [
      "1\n",
      "2\n",
      "3\n",
      "4\n",
      "5\n",
      "6\n",
      "7\n",
      "8\n",
      "9\n",
      "10\n"
     ]
    }
   ],
   "source": [
    "for i in range(1,11):\n",
    "    print(i)\n"
   ]
  },
  {
   "cell_type": "code",
   "execution_count": 4,
   "id": "f8917ad8",
   "metadata": {},
   "outputs": [
    {
     "data": {
      "text/plain": [
       "[2, 4, 6, 8, 10, 12, 14, 16, 18, 20]"
      ]
     },
     "execution_count": 4,
     "metadata": {},
     "output_type": "execute_result"
    }
   ],
   "source": [
    "[i*2 for i in range(1,11)]"
   ]
  },
  {
   "cell_type": "code",
   "execution_count": null,
   "id": "18b61433",
   "metadata": {},
   "outputs": [],
   "source": [
    "#- [expression for item in iterable if (條件式)]"
   ]
  },
  {
   "cell_type": "code",
   "execution_count": null,
   "id": "4e9471ec",
   "metadata": {},
   "outputs": [
    {
     "data": {
      "text/plain": [
       "[2, 6, 10, 14, 18]"
      ]
     },
     "execution_count": 6,
     "metadata": {},
     "output_type": "execute_result"
    }
   ],
   "source": [
    "[i*2 for i in range(1,11) if i % 2 == 1 ]\n"
   ]
  },
  {
   "cell_type": "markdown",
   "id": "7093696c",
   "metadata": {},
   "source": [
    "### map() , filter"
   ]
  },
  {
   "cell_type": "code",
   "execution_count": null,
   "id": "fb304aea",
   "metadata": {},
   "outputs": [
    {
     "data": {
      "text/plain": [
       "[{'姓名': '張哞哞', 'age': 30, 'score': 87},\n",
       " {'姓名': '梁哞哞', 'age': 30, 'score': 88},\n",
       " {'姓名': '劉哞哞', 'age': 32, 'score': 89}]"
      ]
     },
     "execution_count": 8,
     "metadata": {},
     "output_type": "execute_result"
    }
   ],
   "source": [
    "#這是多筆相關聯的資料\n",
    "#這是記憶體內的表格資料\n",
    "students = [\n",
    "{\"姓名\":\"張哞哞\" , \"age\":30 , \"score\":87} ,\n",
    "{\"姓名\":\"梁哞哞\" , \"age\":30 , \"score\":88}, #2\n",
    "{\"姓名\":\"劉哞哞\" , \"age\":32 , \"score\":89} #3\n",
    "]\n",
    "students\n"
   ]
  },
  {
   "cell_type": "code",
   "execution_count": 9,
   "id": "1ecaf749",
   "metadata": {},
   "outputs": [
    {
     "name": "stdout",
     "output_type": "stream",
     "text": [
      "{'姓名': '張哞哞', 'age': 30, 'score': 87}\n",
      "{'姓名': '梁哞哞', 'age': 30, 'score': 88}\n",
      "{'姓名': '劉哞哞', 'age': 32, 'score': 89}\n"
     ]
    }
   ],
   "source": [
    "for classs in students :\n",
    "    print(classs)"
   ]
  },
  {
   "cell_type": "code",
   "execution_count": 1,
   "id": "05ace518",
   "metadata": {},
   "outputs": [],
   "source": [
    "students = [\n",
    "    {\"name\" : \"Simon\" , \"math\": 100 ,\"eng\": 95 ,\"sci\": 85 },\n",
    "    {\"name\" : \"Amber\" , \"math\": 100 ,\"eng\": 95 ,\"sci\": 85 },\n",
    "    {\"name\" : \"Tom\" , \"math\": 100 ,\"eng\": 95 ,\"sci\": 85 },\n",
    "    {\"name\" : \"Jonas\" , \"math\": 100 ,\"eng\": 95 ,\"sci\": 85 }\n",
    "]"
   ]
  },
  {
   "cell_type": "code",
   "execution_count": 5,
   "id": "f9933d58",
   "metadata": {},
   "outputs": [
    {
     "name": "stdout",
     "output_type": "stream",
     "text": [
      "{'name': 'Simon', 'math': 100, 'eng': 95, 'sci': 85}\n",
      "{'name': 'Amber', 'math': 100, 'eng': 95, 'sci': 85}\n",
      "{'name': 'Tom', 'math': 100, 'eng': 95, 'sci': 85}\n",
      "{'name': 'Jonas', 'math': 100, 'eng': 95, 'sci': 85}\n"
     ]
    }
   ],
   "source": [
    "for student in students:\n",
    "    if student[\"sci\"] >= 80:\n",
    "        print(student)"
   ]
  },
  {
   "cell_type": "markdown",
   "id": "9e6494d0",
   "metadata": {},
   "source": [
    "### 使用comprehension的技巧"
   ]
  },
  {
   "cell_type": "code",
   "execution_count": 8,
   "id": "d5330699",
   "metadata": {},
   "outputs": [
    {
     "data": {
      "text/plain": [
       "[{'name': 'Simon', 'math': 100, 'eng': 95, 'sci': 85},\n",
       " {'name': 'Amber', 'math': 100, 'eng': 95, 'sci': 85},\n",
       " {'name': 'Tom', 'math': 100, 'eng': 95, 'sci': 85},\n",
       " {'name': 'Jonas', 'math': 100, 'eng': 95, 'sci': 85}]"
      ]
     },
     "execution_count": 8,
     "metadata": {},
     "output_type": "execute_result"
    }
   ],
   "source": [
    "student_80 = [student for student in students if student[\"sci\"] >= 80] #過濾\n",
    "student_80"
   ]
  },
  {
   "cell_type": "markdown",
   "id": "8d888fe1",
   "metadata": {},
   "source": [
    "### 使用filter()的技巧\n",
    "- 說明書\n",
    "- filter(function , iterable)\n",
    "\n",
    "filter(function, iterable)\n",
    "Python 中的 filter() 函式用來從一個可迭代物件（如列表、元組等）中篩選出符合條件的元素。其基本語法如下：\n",
    "\n",
    "filter(function, iterable)\n",
    "- function：一個函式，用來判斷元素是否符合條件。此函式接受一個參數，回傳布林值 True 或 False。回傳 True 的元素會被保留。\n",
    "- iterable：要篩選的可迭代物件。\n",
    "filter() 會回傳一個 filter 物件（可迭代），通常會搭配 list() 或其他容器轉換使用。\n",
    "\n",
    "範例說明\n",
    "# 篩選出列表中所有偶數\n",
    "numbers = [1, 2, 3, 4, 5, 6]\n",
    "\n",
    "def is_even(n):\n",
    "    return n % 2 == 0\n",
    "\n",
    "filtered_numbers = filter(is_even, numbers)\n",
    "print(list(filtered_numbers))  # 輸出: [2, 4, 6]\n",
    "也可以用匿名函式（lambda）簡化：\n",
    "\n",
    "filtered_numbers = filter(lambda x: x % 2 == 0, numbers)\n",
    "print(list(filtered_numbers))  # 輸出: [2, 4, 6]\n",
    "使用重點\n",
    "filter() 不會改變原始資料，而是回傳一個新的可迭代物件。\n",
    "如果 function 是 None，則會過濾掉所有布林值為 False 的元素（例如 False, 0, None, '' 等）。\n",
    "items = [\"apple\", \"\", \"banana\", None, \"cherry\"]\n",
    "filtered_items = filter(None, items)\n",
    "print(list(filtered_items))  # 輸出: ['apple', 'banana', 'cherry']"
   ]
  },
  {
   "cell_type": "code",
   "execution_count": null,
   "id": "76bedfac",
   "metadata": {},
   "outputs": [
    {
     "data": {
      "text/plain": [
       "[{'name': 'Simon', 'math': 100, 'eng': 95, 'sci': 85},\n",
       " {'name': 'Amber', 'math': 100, 'eng': 95, 'sci': 85},\n",
       " {'name': 'Tom', 'math': 100, 'eng': 95, 'sci': 85},\n",
       " {'name': 'Jonas', 'math': 100, 'eng': 95, 'sci': 85}]"
      ]
     },
     "execution_count": 10,
     "metadata": {},
     "output_type": "execute_result"
    }
   ],
   "source": [
    "def math_grade_90(student):\n",
    "    if student[\"math\"] >= 90:\n",
    "        return student\n",
    "\n",
    "list (filter(math_grade_90 , students ))"
   ]
  }
 ],
 "metadata": {
  "kernelspec": {
   "display_name": "base",
   "language": "python",
   "name": "python3"
  },
  "language_info": {
   "codemirror_mode": {
    "name": "ipython",
    "version": 3
   },
   "file_extension": ".py",
   "mimetype": "text/x-python",
   "name": "python",
   "nbconvert_exporter": "python",
   "pygments_lexer": "ipython3",
   "version": "3.12.9"
  }
 },
 "nbformat": 4,
 "nbformat_minor": 5
}
