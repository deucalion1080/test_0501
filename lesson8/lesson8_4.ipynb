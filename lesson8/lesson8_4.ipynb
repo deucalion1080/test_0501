{
 "cells": [
  {
   "cell_type": "markdown",
   "id": "c8d4bf88",
   "metadata": {},
   "source": [
    "### dataclass"
   ]
  },
  {
   "cell_type": "code",
   "execution_count": 3,
   "id": "ef99256f",
   "metadata": {},
   "outputs": [],
   "source": [
    "#自定義class\n",
    "from dataclasses import dataclass\n",
    "\n",
    "@dataclass \n",
    "class Student:\n",
    "    name:str\n",
    "    chinese:int\n",
    "    english:int\n",
    "    math:int\n",
    "    \n"
   ]
  },
  {
   "cell_type": "code",
   "execution_count": 6,
   "id": "491270b7",
   "metadata": {},
   "outputs": [
    {
     "data": {
      "text/plain": [
       "list"
      ]
     },
     "execution_count": 6,
     "metadata": {},
     "output_type": "execute_result"
    }
   ],
   "source": [
    "#透過class 建立實體\n",
    "students:list[Student] = [Student(name=\"Simon\" ,chinese = 95 ,english = 98 ,math = 100 ),\n",
    "Student(name=\"Amber\" ,chinese = 95 ,english = 98 ,math = 100 ),\n",
    "Student(name=\"Jonas\" ,chinese = 95 ,english = 98 ,math = 100 )\n",
    "]\n",
    "\n",
    "type(students)"
   ]
  },
  {
   "cell_type": "code",
   "execution_count": 9,
   "id": "e4eecdf7",
   "metadata": {},
   "outputs": [
    {
     "name": "stdout",
     "output_type": "stream",
     "text": [
      "Simon\n",
      "98\n",
      "100\n",
      "Amber\n",
      "98\n",
      "100\n",
      "Jonas\n",
      "98\n",
      "100\n"
     ]
    }
   ],
   "source": [
    "for student in students:\n",
    "    print(student.name)\n",
    "    print(student.english)\n",
    "    print(student.math)"
   ]
  }
 ],
 "metadata": {
  "kernelspec": {
   "display_name": "base",
   "language": "python",
   "name": "python3"
  },
  "language_info": {
   "codemirror_mode": {
    "name": "ipython",
    "version": 3
   },
   "file_extension": ".py",
   "mimetype": "text/x-python",
   "name": "python",
   "nbconvert_exporter": "python",
   "pygments_lexer": "ipython3",
   "version": "3.12.9"
  }
 },
 "nbformat": 4,
 "nbformat_minor": 5
}
