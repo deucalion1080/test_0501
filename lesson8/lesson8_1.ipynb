{
 "cells": [
  {
   "cell_type": "markdown",
   "id": "aafcd2c5",
   "metadata": {},
   "source": [
    "### tuple\n",
    "- immutable(不可變的變數)\n",
    "- Sequence(串列資料)\n",
    "- iterable(可重複讀取)\n",
    "- 拆解法\n",
    "- 用括號符號建立\n",
    "- typeint(tuple)"
   ]
  },
  {
   "cell_type": "code",
   "execution_count": null,
   "id": "fcb89572",
   "metadata": {},
   "outputs": [
    {
     "name": "stdout",
     "output_type": "stream",
     "text": [
      "Simon\n",
      "30\n"
     ]
    }
   ],
   "source": [
    "#拆解法\n",
    "name , age = \"Simon\" , 30\n",
    "print(name)\n",
    "print(age)"
   ]
  },
  {
   "cell_type": "markdown",
   "id": "5bbbc0e6",
   "metadata": {},
   "source": [
    "### tuple\n",
    "- immutable(不可變的變數)\n",
    "- Sequence(串列資料)\n",
    "- iterable(可重複讀取)\n",
    "- 拆解法\n",
    "- 用括號符號建立"
   ]
  }
 ],
 "metadata": {
  "kernelspec": {
   "display_name": "base",
   "language": "python",
   "name": "python3"
  },
  "language_info": {
   "codemirror_mode": {
    "name": "ipython",
    "version": 3
   },
   "file_extension": ".py",
   "mimetype": "text/x-python",
   "name": "python",
   "nbconvert_exporter": "python",
   "pygments_lexer": "ipython3",
   "version": "3.12.9"
  }
 },
 "nbformat": 4,
 "nbformat_minor": 5
}
