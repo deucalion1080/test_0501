{
 "cells": [
  {
   "cell_type": "markdown",
   "id": "aafcd2c5",
   "metadata": {},
   "source": [
    "### tuple\n",
    "- immutable(不可變的變數)\n",
    "- Sequence(串列資料)\n",
    "- iterable(可重複讀取)\n",
    "- 拆解法\n",
    "- 用括號符號建立"
   ]
  },
  {
   "cell_type": "code",
   "execution_count": null,
   "id": "fcb89572",
   "metadata": {},
   "outputs": [],
   "source": [
    "name , age = \"Simon\" , 30"
   ]
  }
 ],
 "metadata": {
  "kernelspec": {
   "display_name": "base",
   "language": "python",
   "name": "python3"
  },
  "language_info": {
   "name": "python",
   "version": "3.12.9"
  }
 },
 "nbformat": 4,
 "nbformat_minor": 5
}
