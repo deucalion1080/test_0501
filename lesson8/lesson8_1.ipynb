{
 "cells": [
  {
   "cell_type": "markdown",
   "id": "aafcd2c5",
   "metadata": {},
   "source": [
    "### tuple\n",
    "- immutable(不可變的變數)\n",
    "- Sequence(串列資料)\n",
    "- iterable(可重複讀取)\n",
    "- 拆解法\n",
    "- 用括號符號建立\n",
    "- typeint(tuple)"
   ]
  },
  {
   "cell_type": "code",
   "execution_count": null,
   "id": "fcb89572",
   "metadata": {},
   "outputs": [
    {
     "name": "stdout",
     "output_type": "stream",
     "text": [
      "Simon\n",
      "30\n"
     ]
    }
   ],
   "source": [
    "#拆解法\n",
    "name , age = \"Simon\" , 30\n",
    "print(name)\n",
    "print(age)"
   ]
  },
  {
   "cell_type": "markdown",
   "id": "5bbbc0e6",
   "metadata": {},
   "source": [
    "### list\n",
    "- mutable(可變的變數)\n",
    "- Sequence(串列資料)\n",
    "- iterable(可重複讀取)\n",
    "- 用中括號[]符號建立\n",
    "- typeint(list)"
   ]
  },
  {
   "cell_type": "code",
   "execution_count": null,
   "id": "519c461c",
   "metadata": {},
   "outputs": [
    {
     "data": {
      "text/plain": [
       "list"
      ]
     },
     "execution_count": 2,
     "metadata": {},
     "output_type": "execute_result"
    }
   ],
   "source": [
    "#建立list\n",
    "weeks = [\"星期一\",\"星期二\",\"星期三\",\"星期四\",\"星期五\",\"星期六\",\"星期日\"]\n",
    "type(weeks)"
   ]
  },
  {
   "cell_type": "code",
   "execution_count": null,
   "id": "a804ec65",
   "metadata": {},
   "outputs": [
    {
     "data": {
      "text/plain": [
       "'星期日'"
      ]
     },
     "execution_count": 6,
     "metadata": {},
     "output_type": "execute_result"
    }
   ],
   "source": [
    "#取出元素和修改元素\n",
    "#使用subscript[index]\n",
    "weeks[0]\n",
    "weeks[1]\n",
    "weeks[-1]\n",
    "#weeks[-2]"
   ]
  },
  {
   "cell_type": "code",
   "execution_count": null,
   "id": "e2645ad9",
   "metadata": {},
   "outputs": [
    {
     "data": {
      "text/plain": [
       "['星期一', '星期二', '星期三']"
      ]
     },
     "execution_count": 10,
     "metadata": {},
     "output_type": "execute_result"
    }
   ],
   "source": [
    "#使用subscript[slice]\n",
    "#[起始(包含):結束(不包含)]\n",
    "\n",
    "weeks[0:3]\n",
    "weeks[-3:-1]\n",
    "weeks[-3:] #取最後3個\n",
    "weeks[:3] #取前3個"
   ]
  },
  {
   "cell_type": "code",
   "execution_count": 11,
   "id": "d0a7d5e0",
   "metadata": {},
   "outputs": [
    {
     "name": "stdout",
     "output_type": "stream",
     "text": [
      "星期一\n",
      "星期二\n",
      "星期三\n",
      "星期四\n",
      "星期五\n",
      "星期六\n",
      "星期日\n"
     ]
    }
   ],
   "source": [
    "for day in weeks:\n",
    "    print(day)"
   ]
  },
  {
   "cell_type": "markdown",
   "id": "bf4ba5ac",
   "metadata": {},
   "source": [
    "### dictionary\n",
    "- mutable(可變的變數)\n",
    "- Mapping(mapping資料)\n",
    "- iterable(可重複讀取)\n",
    "- 用大括號{key:value}符號建立\n",
    "- typeint(dict)"
   ]
  },
  {
   "cell_type": "code",
   "execution_count": 12,
   "id": "473532ea",
   "metadata": {},
   "outputs": [
    {
     "data": {
      "text/plain": [
       "{'tw': 'Taiwan', 'JP': 'Japan', 'HK': 'Hong Kong'}"
      ]
     },
     "execution_count": 12,
     "metadata": {},
     "output_type": "execute_result"
    }
   ],
   "source": [
    "code = {\"tw\":\"Taiwan\" , \"JP\":\"Japan\" , \"HK\":\"Hong Kong\"}\n",
    "code"
   ]
  },
  {
   "cell_type": "code",
   "execution_count": 13,
   "id": "b7791eaf",
   "metadata": {},
   "outputs": [
    {
     "data": {
      "text/plain": [
       "'Taiwan'"
      ]
     },
     "execution_count": 13,
     "metadata": {},
     "output_type": "execute_result"
    }
   ],
   "source": [
    "code[\"tw\"]"
   ]
  },
  {
   "cell_type": "code",
   "execution_count": 17,
   "id": "76a42b3c",
   "metadata": {},
   "outputs": [
    {
     "name": "stdout",
     "output_type": "stream",
     "text": [
      "tw\n",
      "Taiwan\n",
      "=====\n",
      "JP\n",
      "Japan\n",
      "=====\n",
      "HK\n",
      "Hong Kong\n",
      "=====\n"
     ]
    }
   ],
   "source": [
    "for key in code:\n",
    "    print(key)\n",
    "    print(code[key])\n",
    "    print(\"=====\")"
   ]
  },
  {
   "cell_type": "markdown",
   "id": "ee6913bc",
   "metadata": {},
   "source": [
    "### set\n",
    "- 元素不可以重複\n",
    "- 符號建立方式用大括號{}"
   ]
  },
  {
   "cell_type": "code",
   "execution_count": null,
   "id": "0cba156f",
   "metadata": {},
   "outputs": [
    {
     "data": {
      "text/plain": [
       "{'台中', '台北', '台南', '高雄'}"
      ]
     },
     "execution_count": 18,
     "metadata": {},
     "output_type": "execute_result"
    }
   ],
   "source": [
    "#set\n",
    "cities = {\"台北\",\"台中\",\"台南\",\"高雄\",\"台北\",\"台中\",\"台南\",\"高雄\"}\n",
    "cities"
   ]
  }
 ],
 "metadata": {
  "kernelspec": {
   "display_name": "base",
   "language": "python",
   "name": "python3"
  },
  "language_info": {
   "codemirror_mode": {
    "name": "ipython",
    "version": 3
   },
   "file_extension": ".py",
   "mimetype": "text/x-python",
   "name": "python",
   "nbconvert_exporter": "python",
   "pygments_lexer": "ipython3",
   "version": "3.12.9"
  }
 },
 "nbformat": 4,
 "nbformat_minor": 5
}
