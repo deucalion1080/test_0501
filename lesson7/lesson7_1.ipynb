{
 "cells": [
  {
   "cell_type": "markdown",
   "id": "b9ac6f78",
   "metadata": {},
   "source": [
    "### function的呼叫 方式"
   ]
  },
  {
   "cell_type": "markdown",
   "id": "38b247bc",
   "metadata": {},
   "source": [
    "### 引數值的呼叫\n",
    "- 要依照參數的順序"
   ]
  },
  {
   "cell_type": "code",
   "execution_count": 7,
   "id": "cf4b021a",
   "metadata": {},
   "outputs": [],
   "source": [
    "def menu(wine ,entree , dessert ):\n",
    "    print(f\"前酒:{wine}\")\n",
    "    print(f\"前酒:{entree}\")\n",
    "    print(f\"前酒:{dessert}\")"
   ]
  },
  {
   "cell_type": "code",
   "execution_count": 6,
   "id": "bfa1916f",
   "metadata": {},
   "outputs": [
    {
     "name": "stdout",
     "output_type": "stream",
     "text": [
      "前酒:白酒\n",
      "前酒:牛\n",
      "前酒:蛋糕\n"
     ]
    }
   ],
   "source": [
    "#引數值的呼叫\n",
    "menu(\"白酒\",\"牛\",\"蛋糕\")"
   ]
  },
  {
   "cell_type": "markdown",
   "id": "7bfb5b57",
   "metadata": {},
   "source": [
    "### 引數名稱的呼叫\n",
    "- 使用參數的名稱當作引數名稱\n",
    "- 可以不依照參數的順序"
   ]
  },
  {
   "cell_type": "code",
   "execution_count": 12,
   "id": "5ea8ff7a",
   "metadata": {},
   "outputs": [],
   "source": [
    "def menu(wine ,entree , dessert ):\n",
    "    print(f\"前酒:{wine}\")\n",
    "    print(f\"主餐:{entree}\")\n",
    "    print(f\"甜點:{dessert}\")"
   ]
  },
  {
   "cell_type": "code",
   "execution_count": 13,
   "id": "c03e851f",
   "metadata": {},
   "outputs": [
    {
     "name": "stdout",
     "output_type": "stream",
     "text": [
      "前酒:白酒\n",
      "主餐:牛排\n",
      "甜點:蛋糕\n"
     ]
    }
   ],
   "source": [
    "menu(wine=\"白酒\",entree=\"牛排\" ,dessert=\"蛋糕\")"
   ]
  },
  {
   "cell_type": "code",
   "execution_count": 11,
   "id": "c4ce0d8c",
   "metadata": {},
   "outputs": [
    {
     "name": "stdout",
     "output_type": "stream",
     "text": [
      "前酒:白酒\n",
      "前酒:牛排\n",
      "前酒:蛋糕\n"
     ]
    }
   ],
   "source": [
    "menu(dessert=\"蛋糕\",entree=\"牛排\" ,wine=\"白酒\")"
   ]
  },
  {
   "cell_type": "markdown",
   "id": "27a84820",
   "metadata": {},
   "source": [
    "### 混合呼叫\n",
    "- 前面一定先用引數(位置順序),後面引數名稱呼叫\n",
    "- 使用引數名稱呼叫後,後面全部要使用引數名稱呼叫"
   ]
  },
  {
   "cell_type": "code",
   "execution_count": 1,
   "id": "92474d19",
   "metadata": {},
   "outputs": [],
   "source": [
    "def menu(wine ,entree , dessert ):\n",
    "    print(f\"前酒:{wine}\")\n",
    "    print(f\"主餐:{entree}\")\n",
    "    print(f\"甜點:{dessert}\")"
   ]
  },
  {
   "cell_type": "code",
   "execution_count": 3,
   "id": "f621f668",
   "metadata": {},
   "outputs": [
    {
     "name": "stdout",
     "output_type": "stream",
     "text": [
      "前酒:紅酒\n",
      "主餐:牛排\n",
      "甜點:蛋糕\n"
     ]
    }
   ],
   "source": [
    "menu(\"紅酒\" ,entree=\"牛排\",dessert=\"蛋糕\")"
   ]
  },
  {
   "cell_type": "code",
   "execution_count": 4,
   "id": "4e337c6a",
   "metadata": {},
   "outputs": [
    {
     "name": "stdout",
     "output_type": "stream",
     "text": [
      "前酒:紅酒\n",
      "主餐:牛排\n",
      "甜點:蛋糕\n"
     ]
    }
   ],
   "source": [
    "menu(\"紅酒\" ,dessert=\"蛋糕\",entree=\"牛排\")"
   ]
  }
 ],
 "metadata": {
  "kernelspec": {
   "display_name": "base",
   "language": "python",
   "name": "python3"
  },
  "language_info": {
   "codemirror_mode": {
    "name": "ipython",
    "version": 3
   },
   "file_extension": ".py",
   "mimetype": "text/x-python",
   "name": "python",
   "nbconvert_exporter": "python",
   "pygments_lexer": "ipython3",
   "version": "3.12.9"
  }
 },
 "nbformat": 4,
 "nbformat_minor": 5
}
