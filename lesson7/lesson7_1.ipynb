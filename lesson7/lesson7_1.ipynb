{
 "cells": [
  {
   "cell_type": "markdown",
   "id": "b9ac6f78",
   "metadata": {},
   "source": [
    "### function的呼叫 方式"
   ]
  },
  {
   "cell_type": "markdown",
   "id": "38b247bc",
   "metadata": {},
   "source": [
    "### 引數值的呼叫\n",
    "- 要依照參數的順序"
   ]
  },
  {
   "cell_type": "code",
   "execution_count": 7,
   "id": "cf4b021a",
   "metadata": {},
   "outputs": [],
   "source": [
    "def menu(wine ,entree , dessert ):\n",
    "    print(f\"前酒:{wine}\")\n",
    "    print(f\"前酒:{entree}\")\n",
    "    print(f\"前酒:{dessert}\")"
   ]
  },
  {
   "cell_type": "code",
   "execution_count": 6,
   "id": "bfa1916f",
   "metadata": {},
   "outputs": [
    {
     "name": "stdout",
     "output_type": "stream",
     "text": [
      "前酒:白酒\n",
      "前酒:牛\n",
      "前酒:蛋糕\n"
     ]
    }
   ],
   "source": [
    "#引數值的呼叫\n",
    "menu(\"白酒\",\"牛\",\"蛋糕\")"
   ]
  },
  {
   "cell_type": "markdown",
   "id": "7bfb5b57",
   "metadata": {},
   "source": [
    "### 引數名稱的呼叫\n",
    "- 使用參數的名稱當作引數名稱\n",
    "- 可以不依照參數的順序"
   ]
  },
  {
   "cell_type": "code",
   "execution_count": 12,
   "id": "5ea8ff7a",
   "metadata": {},
   "outputs": [],
   "source": [
    "def menu(wine ,entree , dessert ):\n",
    "    print(f\"前酒:{wine}\")\n",
    "    print(f\"主餐:{entree}\")\n",
    "    print(f\"甜點:{dessert}\")"
   ]
  },
  {
   "cell_type": "code",
   "execution_count": 13,
   "id": "c03e851f",
   "metadata": {},
   "outputs": [
    {
     "name": "stdout",
     "output_type": "stream",
     "text": [
      "前酒:白酒\n",
      "主餐:牛排\n",
      "甜點:蛋糕\n"
     ]
    }
   ],
   "source": [
    "menu(wine=\"白酒\",entree=\"牛排\" ,dessert=\"蛋糕\")"
   ]
  },
  {
   "cell_type": "code",
   "execution_count": 11,
   "id": "c4ce0d8c",
   "metadata": {},
   "outputs": [
    {
     "name": "stdout",
     "output_type": "stream",
     "text": [
      "前酒:白酒\n",
      "前酒:牛排\n",
      "前酒:蛋糕\n"
     ]
    }
   ],
   "source": [
    "menu(dessert=\"蛋糕\",entree=\"牛排\" ,wine=\"白酒\")"
   ]
  },
  {
   "cell_type": "markdown",
   "id": "27a84820",
   "metadata": {},
   "source": [
    "### 混合呼叫\n",
    "- 前面一定先用引數(位置順序),後面引數名稱呼叫\n",
    "- 使用引數名稱呼叫後,後面全部要使用引數名稱呼叫"
   ]
  },
  {
   "cell_type": "code",
   "execution_count": 1,
   "id": "92474d19",
   "metadata": {},
   "outputs": [],
   "source": [
    "def menu(wine ,entree , dessert ):\n",
    "    print(f\"前酒:{wine}\")\n",
    "    print(f\"主餐:{entree}\")\n",
    "    print(f\"甜點:{dessert}\")"
   ]
  },
  {
   "cell_type": "code",
   "execution_count": 3,
   "id": "f621f668",
   "metadata": {},
   "outputs": [
    {
     "name": "stdout",
     "output_type": "stream",
     "text": [
      "前酒:紅酒\n",
      "主餐:牛排\n",
      "甜點:蛋糕\n"
     ]
    }
   ],
   "source": [
    "menu(\"紅酒\" ,entree=\"牛排\",dessert=\"蛋糕\")"
   ]
  },
  {
   "cell_type": "code",
   "execution_count": 4,
   "id": "4e337c6a",
   "metadata": {},
   "outputs": [
    {
     "name": "stdout",
     "output_type": "stream",
     "text": [
      "前酒:紅酒\n",
      "主餐:牛排\n",
      "甜點:蛋糕\n"
     ]
    }
   ],
   "source": [
    "menu(\"紅酒\" ,dessert=\"蛋糕\",entree=\"牛排\")"
   ]
  },
  {
   "cell_type": "markdown",
   "id": "42c4f543",
   "metadata": {},
   "source": [
    "### 定義參數時 指定參數的預設值\n",
    "- 有預設值的參數 一定要定義在最後面"
   ]
  },
  {
   "cell_type": "code",
   "execution_count": 5,
   "id": "90499503",
   "metadata": {},
   "outputs": [],
   "source": [
    "def menu(wine ,entree , dessert=\"奶昔shake\"):\n",
    "    print(f\"前酒:{wine}\")\n",
    "    print(f\"主餐:{entree}\")\n",
    "    print(f\"甜點:{dessert}\")"
   ]
  },
  {
   "cell_type": "markdown",
   "id": "f9ac3fa4",
   "metadata": {},
   "source": [
    "### 呼叫時可以省略有預設值的參數"
   ]
  },
  {
   "cell_type": "code",
   "execution_count": 6,
   "id": "4aad75aa",
   "metadata": {},
   "outputs": [
    {
     "name": "stdout",
     "output_type": "stream",
     "text": [
      "前酒:紅酒\n",
      "主餐:牛排\n",
      "甜點:奶昔shake\n"
     ]
    }
   ],
   "source": [
    "menu(\"紅酒\",\"牛排\")"
   ]
  },
  {
   "cell_type": "markdown",
   "id": "eecba3c7",
   "metadata": {},
   "source": [
    "### 呼叫時可以取代有預設值的參數"
   ]
  },
  {
   "cell_type": "code",
   "execution_count": 7,
   "id": "58c24589",
   "metadata": {},
   "outputs": [
    {
     "name": "stdout",
     "output_type": "stream",
     "text": [
      "前酒:紅酒\n",
      "主餐:牛排\n",
      "甜點:變回蛋糕\n"
     ]
    }
   ],
   "source": [
    "menu(\"紅酒\",\"牛排\",dessert=\"變回蛋糕\")"
   ]
  },
  {
   "cell_type": "markdown",
   "id": "1638cef8",
   "metadata": {},
   "source": [
    "### *參數名稱\n",
    "- 沒有限定數量的引數值的呼叫, 也可以是零個引數值\n",
    "- 大部分有前面\n",
    "- 參數名稱可以任意定義"
   ]
  },
  {
   "cell_type": "code",
   "execution_count": 10,
   "id": "043988f8",
   "metadata": {},
   "outputs": [],
   "source": [
    "def print_args(*args):\n",
    "    #args是tuple\n",
    "    print(args)"
   ]
  },
  {
   "cell_type": "code",
   "execution_count": 11,
   "id": "fe4f6929",
   "metadata": {},
   "outputs": [
    {
     "data": {
      "text/plain": [
       "(1, 3, 5, 7, 9)"
      ]
     },
     "execution_count": 11,
     "metadata": {},
     "output_type": "execute_result"
    }
   ],
   "source": [
    "#tuple是把一組數值包再一起 使用小括號()\n",
    "(1,3,5,7,9)"
   ]
  },
  {
   "cell_type": "code",
   "execution_count": 12,
   "id": "6b9137de",
   "metadata": {},
   "outputs": [
    {
     "name": "stdout",
     "output_type": "stream",
     "text": [
      "('a', 'b', 'c', 1, 2, 3, True, False)\n"
     ]
    }
   ],
   "source": [
    "print_args(\"a\",\"b\",\"c\",1,2,3 , True,False)"
   ]
  },
  {
   "cell_type": "markdown",
   "id": "bd8446e5",
   "metadata": {},
   "source": [
    "### **參數名稱\n",
    "- 大部分放在最後面\n",
    "- 沒有限定數量的引數名稱呼叫,沒有限定數量代表可以是0個\n",
    "- 參數名稱可以任意定義"
   ]
  },
  {
   "cell_type": "code",
   "execution_count": 13,
   "id": "e6159063",
   "metadata": {},
   "outputs": [],
   "source": [
    "def print_kwargs(**kwargs):\n",
    "    #kwargs是dictionary\n",
    "    print(kwargs)"
   ]
  },
  {
   "cell_type": "code",
   "execution_count": 14,
   "id": "6047bb26",
   "metadata": {},
   "outputs": [
    {
     "name": "stdout",
     "output_type": "stream",
     "text": [
      "{'one': 1, 'two': 2, 'three': 3, 'four': 4, 'five': 5}\n"
     ]
    }
   ],
   "source": [
    "print_kwargs(one = 1 , two = 2 ,three = 3,four = 4, five = 5)"
   ]
  },
  {
   "cell_type": "markdown",
   "id": "dc828059",
   "metadata": {},
   "source": [
    "### 混合*args  , **kwargs"
   ]
  },
  {
   "cell_type": "code",
   "execution_count": 15,
   "id": "5dfdf5e3",
   "metadata": {},
   "outputs": [],
   "source": [
    "def print_mixed(*args , **kwargs):\n",
    "    print(args)\n",
    "    print(kwargs)"
   ]
  },
  {
   "cell_type": "code",
   "execution_count": 16,
   "id": "e2321655",
   "metadata": {},
   "outputs": [
    {
     "name": "stdout",
     "output_type": "stream",
     "text": [
      "('a', 'b', 1, 2, 3, True, False)\n",
      "{'one': 1, 'two': 2, 'three': 3, 'our': 4, 'five': 5}\n"
     ]
    }
   ],
   "source": [
    "print_mixed(\"a\" , \"b\" , 1,2,3, True,False,\n",
    "            one = 1 , \n",
    "            two = 2 ,\n",
    "            three = 3,\n",
    "            our = 4, \n",
    "            five = 5)"
   ]
  }
 ],
 "metadata": {
  "kernelspec": {
   "display_name": "base",
   "language": "python",
   "name": "python3"
  },
  "language_info": {
   "codemirror_mode": {
    "name": "ipython",
    "version": 3
   },
   "file_extension": ".py",
   "mimetype": "text/x-python",
   "name": "python",
   "nbconvert_exporter": "python",
   "pygments_lexer": "ipython3",
   "version": "3.12.9"
  }
 },
 "nbformat": 4,
 "nbformat_minor": 5
}
