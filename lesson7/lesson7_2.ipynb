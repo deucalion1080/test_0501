{
 "cells": [
  {
   "cell_type": "code",
   "execution_count": 2,
   "id": "564507c3",
   "metadata": {},
   "outputs": [
    {
     "name": "stdout",
     "output_type": "stream",
     "text": [
      "1 3 5 7 9 c a b結束\n"
     ]
    }
   ],
   "source": [
    "print(1,3,5,7,9,\"c\" ,\"a\",\"b\",end=\"結束\\n\" )"
   ]
  },
  {
   "cell_type": "code",
   "execution_count": 1,
   "id": "9422e5ba",
   "metadata": {},
   "outputs": [
    {
     "name": "stdout",
     "output_type": "stream",
     "text": [
      "1-3-5-7-9-c-a-b結束\n"
     ]
    }
   ],
   "source": [
    "print(1,3,5,7,9,\"c\" ,\"a\",\"b\",end=\"結束\\n\" , sep=\"-\")"
   ]
  }
 ],
 "metadata": {
  "kernelspec": {
   "display_name": "base",
   "language": "python",
   "name": "python3"
  },
  "language_info": {
   "codemirror_mode": {
    "name": "ipython",
    "version": 3
   },
   "file_extension": ".py",
   "mimetype": "text/x-python",
   "name": "python",
   "nbconvert_exporter": "python",
   "pygments_lexer": "ipython3",
   "version": "3.12.9"
  }
 },
 "nbformat": 4,
 "nbformat_minor": 5
}
