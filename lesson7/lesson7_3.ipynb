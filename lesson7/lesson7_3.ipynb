{
 "cells": [
  {
   "cell_type": "markdown",
   "id": "2a61f7ce",
   "metadata": {},
   "source": [
    "### tuple\n",
    "- 不可變變數\n",
    "- 串列資料(Sequence) =>有順序的資料\n",
    "- 由符號建立(xxx, xxx ,xxx )"
   ]
  },
  {
   "cell_type": "code",
   "execution_count": 6,
   "id": "e9e3da44",
   "metadata": {},
   "outputs": [
    {
     "data": {
      "text/plain": [
       "('星期一', '星期二', '星期三', '星期四', '星期五', '星期六', '星期日')"
      ]
     },
     "execution_count": 6,
     "metadata": {},
     "output_type": "execute_result"
    }
   ],
   "source": [
    "week:tuple[str] = (\"星期一\",\"星期二\",\"星期三\",\"星期四\",\"星期五\",\"星期六\",\"星期日\")\n",
    "week\n"
   ]
  },
  {
   "cell_type": "code",
   "execution_count": 7,
   "id": "e848bb84",
   "metadata": {},
   "outputs": [
    {
     "data": {
      "text/plain": [
       "'星期日'"
      ]
     },
     "execution_count": 7,
     "metadata": {},
     "output_type": "execute_result"
    }
   ],
   "source": [
    "#透過索引編號取得元素\n",
    "week[0]\n",
    "week[1]\n",
    "week[2]\n",
    "week[6]"
   ]
  },
  {
   "cell_type": "markdown",
   "id": "923cfa93",
   "metadata": {},
   "source": [
    "### tuple是串列資料(Sequence)\n"
   ]
  },
  {
   "cell_type": "code",
   "execution_count": 8,
   "id": "852ff6fd",
   "metadata": {},
   "outputs": [
    {
     "name": "stdout",
     "output_type": "stream",
     "text": [
      "星期一\n",
      "星期二\n",
      "星期三\n",
      "星期四\n",
      "星期五\n",
      "星期六\n",
      "星期日\n"
     ]
    }
   ],
   "source": [
    "for day in week:\n",
    "    print(day)"
   ]
  },
  {
   "cell_type": "markdown",
   "id": "20e76e05",
   "metadata": {},
   "source": [
    "### tuple最常用的操作方法 =>拆解法"
   ]
  },
  {
   "cell_type": "code",
   "execution_count": 2,
   "id": "ef2e0c0d",
   "metadata": {},
   "outputs": [
    {
     "data": {
      "text/plain": [
       "500"
      ]
     },
     "execution_count": 2,
     "metadata": {},
     "output_type": "execute_result"
    }
   ],
   "source": [
    "#將tuple拆解給變數\n",
    "(name , age, scores) = (\"Simon\" , 30, 500)\n",
    "name\n",
    "age\n",
    "scores"
   ]
  },
  {
   "cell_type": "code",
   "execution_count": 3,
   "id": "648ae2b2",
   "metadata": {},
   "outputs": [],
   "source": [
    "#小括號可以省略\n",
    "name , age, scores = \"Simon\" , 30, 500"
   ]
  },
  {
   "cell_type": "code",
   "execution_count": null,
   "id": "19f8dbd0",
   "metadata": {},
   "outputs": [
    {
     "data": {
      "text/plain": [
       "('Simon', 30, 500)"
      ]
     },
     "execution_count": 5,
     "metadata": {},
     "output_type": "execute_result"
    }
   ],
   "source": [
    "#快速顯示多個變數\n",
    "name , age , scores"
   ]
  }
 ],
 "metadata": {
  "kernelspec": {
   "display_name": "base",
   "language": "python",
   "name": "python3"
  },
  "language_info": {
   "codemirror_mode": {
    "name": "ipython",
    "version": 3
   },
   "file_extension": ".py",
   "mimetype": "text/x-python",
   "name": "python",
   "nbconvert_exporter": "python",
   "pygments_lexer": "ipython3",
   "version": "3.12.9"
  }
 },
 "nbformat": 4,
 "nbformat_minor": 5
}
