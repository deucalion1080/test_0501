{
 "cells": [
  {
   "cell_type": "markdown",
   "id": "2a61f7ce",
   "metadata": {},
   "source": [
    "### tuple\n",
    "- 不可變變數\n",
    "- 串列資料(Sequence) =>有順序的資料\n",
    "- 由符號建立(xxx, xxx ,xxx )"
   ]
  },
  {
   "cell_type": "code",
   "execution_count": null,
   "id": "e9e3da44",
   "metadata": {},
   "outputs": [
    {
     "data": {
      "text/plain": [
       "('星期一', '星期二', '星期三', '星期四', '星期五', '星期六', '星期日')"
      ]
     },
     "execution_count": 3,
     "metadata": {},
     "output_type": "execute_result"
    }
   ],
   "source": [
    "week:tuple[str] = (\"星期一\",\"星期二\",\"星期三\",\"星期四\",\"星期五\",\"星期六\",\"星期日\")\n",
    "week\n"
   ]
  }
 ],
 "metadata": {
  "kernelspec": {
   "display_name": "base",
   "language": "python",
   "name": "python3"
  },
  "language_info": {
   "codemirror_mode": {
    "name": "ipython",
    "version": 3
   },
   "file_extension": ".py",
   "mimetype": "text/x-python",
   "name": "python",
   "nbconvert_exporter": "python",
   "pygments_lexer": "ipython3",
   "version": "3.12.9"
  }
 },
 "nbformat": 4,
 "nbformat_minor": 5
}
