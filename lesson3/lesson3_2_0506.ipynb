{
 "cells": [
  {
   "cell_type": "markdown",
   "id": "766440e2",
   "metadata": {},
   "source": [
    "### 複合指定運算子\n",
    "- \\+=\n",
    "- \\-=\n",
    "- \\*=\n",
    "- \\/=\n",
    "- \\//=\n",
    "- \\%=\n",
    "- \\**="
   ]
  },
  {
   "cell_type": "code",
   "execution_count": 3,
   "id": "1e3c8c6e",
   "metadata": {},
   "outputs": [
    {
     "name": "stdout",
     "output_type": "stream",
     "text": [
      "15\n"
     ]
    }
   ],
   "source": [
    "n = 5\n",
    "n + 10 #(x\n",
    "n = n + 10\n",
    "print(n)"
   ]
  },
  {
   "cell_type": "code",
   "execution_count": 8,
   "id": "bd2f2ad8",
   "metadata": {},
   "outputs": [
    {
     "name": "stdout",
     "output_type": "stream",
     "text": [
      "1500\n"
     ]
    }
   ],
   "source": [
    "n = 5\n",
    "n +=10 #複合指定運算子\n",
    "n *=10\n",
    "n *=10\n",
    "print(n) "
   ]
  },
  {
   "cell_type": "code",
   "execution_count": null,
   "id": "d730c90b",
   "metadata": {},
   "outputs": [],
   "source": [
    "#國中數學\n",
    "side = eval(input(\"請輸入鄰邊:\")) \n",
    "another_side = eval(input(\"請輸入對邊:\")) \n",
    "(side**2 + another_side**2)\n"
   ]
  }
 ],
 "metadata": {
  "kernelspec": {
   "display_name": "base",
   "language": "python",
   "name": "python3"
  },
  "language_info": {
   "codemirror_mode": {
    "name": "ipython",
    "version": 3
   },
   "file_extension": ".py",
   "mimetype": "text/x-python",
   "name": "python",
   "nbconvert_exporter": "python",
   "pygments_lexer": "ipython3",
   "version": "3.12.9"
  }
 },
 "nbformat": 4,
 "nbformat_minor": 5
}
