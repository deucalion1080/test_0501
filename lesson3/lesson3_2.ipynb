{
 "cells": [
  {
   "cell_type": "markdown",
   "id": "766440e2",
   "metadata": {},
   "source": [
    "### 複合指定運算子\n",
    "- \\+=\n",
    "- \\-=\n",
    "- \\*=\n",
    "- \\/=\n",
    "- \\//=\n",
    "- \\%=\n",
    "- \\**="
   ]
  },
  {
   "cell_type": "code",
   "execution_count": 3,
   "id": "1e3c8c6e",
   "metadata": {},
   "outputs": [
    {
     "name": "stdout",
     "output_type": "stream",
     "text": [
      "15\n"
     ]
    }
   ],
   "source": [
    "n = 5\n",
    "n + 10 #(x\n",
    "n = n + 10\n",
    "print(n)"
   ]
  },
  {
   "cell_type": "code",
   "execution_count": 8,
   "id": "bd2f2ad8",
   "metadata": {},
   "outputs": [
    {
     "name": "stdout",
     "output_type": "stream",
     "text": [
      "1500\n"
     ]
    }
   ],
   "source": [
    "n = 5\n",
    "n +=10 #複合指定運算子\n",
    "n *=10\n",
    "n *=10\n",
    "print(n) "
   ]
  },
  {
   "cell_type": "markdown",
   "id": "29d270ff",
   "metadata": {},
   "source": [
    "### 使用內建函式庫(math)"
   ]
  },
  {
   "cell_type": "code",
   "execution_count": 2,
   "id": "d730c90b",
   "metadata": {},
   "outputs": [
    {
     "name": "stdout",
     "output_type": "stream",
     "text": [
      "鄰邊: 3\n",
      "對邊: 4\n",
      "斜邊: 5.0\n"
     ]
    }
   ],
   "source": [
    "#國中數學\n",
    "import math\n",
    "side = eval(input(\"請輸入鄰邊:\")) \n",
    "another_side = eval(input(\"請輸入對邊:\")) \n",
    "result = math.sqrt(side**2 + another_side**2)\n",
    "print(\"鄰邊:\",side)\n",
    "print('對邊:',another_side)\n",
    "print('斜邊:',result)"
   ]
  },
  {
   "cell_type": "code",
   "execution_count": 1,
   "id": "eed0fcbe",
   "metadata": {},
   "outputs": [
    {
     "name": "stdout",
     "output_type": "stream",
     "text": [
      "對邊: 2.5\n",
      "斜邊: 5\n",
      "角度是: 30.000000000000004\n"
     ]
    }
   ],
   "source": [
    "#高中數學\n",
    "import math\n",
    "side = eval(input(\"請輸入對邊:\"))\n",
    "another_side = eval(input(\"請輸入斜邊:\"))\n",
    "radian = math.asin(side/another_side)\n",
    "degree = math.degrees(radian)\n",
    "\n",
    "print('對邊:',side)\n",
    "print('斜邊:',another_side)\n",
    "print('角度是:',degree)\n"
   ]
  },
  {
   "cell_type": "markdown",
   "id": "46eef064",
   "metadata": {},
   "source": [
    "# 字串插補(字串的格式化)"
   ]
  },
  {
   "cell_type": "code",
   "execution_count": 6,
   "id": "0887a23a",
   "metadata": {},
   "outputs": [
    {
     "name": "stdout",
     "output_type": "stream",
     "text": [
      "國文成績:92,數學成績:100\n"
     ]
    }
   ],
   "source": [
    "#字串相加 \n",
    "chinese = 92\n",
    "'國文成績'\n",
    "math = 100\n",
    "print(\"國文成績:\" + str(chinese) + \",數學成績:\" + str(math))"
   ]
  },
  {
   "cell_type": "code",
   "execution_count": 9,
   "id": "146b7080",
   "metadata": {},
   "outputs": [
    {
     "name": "stdout",
     "output_type": "stream",
     "text": [
      "國文成績:92.38,數學成績:100\n"
     ]
    }
   ],
   "source": [
    "# 字串和變數的整合 成為全新的字串\n",
    "# 字串差補\n",
    "chinese = 92.3756666\n",
    "math = 100\n",
    "print(f\"國文成績:{chinese:.2f},數學成績:{math}\")"
   ]
  }
 ],
 "metadata": {
  "kernelspec": {
   "display_name": "base",
   "language": "python",
   "name": "python3"
  },
  "language_info": {
   "codemirror_mode": {
    "name": "ipython",
    "version": 3
   },
   "file_extension": ".py",
   "mimetype": "text/x-python",
   "name": "python",
   "nbconvert_exporter": "python",
   "pygments_lexer": "ipython3",
   "version": "3.12.9"
  }
 },
 "nbformat": 4,
 "nbformat_minor": 5
}
