{
 "cells": [
  {
   "cell_type": "markdown",
   "id": "194784af",
   "metadata": {},
   "source": [
    "### 數值運算 例如 int float\n",
    "### 數學運算子\n",
    "### 運算子運算順序"
   ]
  },
  {
   "cell_type": "markdown",
   "id": "c549cf70",
   "metadata": {},
   "source": [
    "### 變更 => 暫存的變更 => 提交(需要說明!!) =>同步"
   ]
  },
  {
   "cell_type": "code",
   "execution_count": 1,
   "id": "094e71e8",
   "metadata": {},
   "outputs": [
    {
     "data": {
      "text/plain": [
       "10"
      ]
     },
     "execution_count": 1,
     "metadata": {},
     "output_type": "execute_result"
    }
   ],
   "source": [
    "2* (1+2)**2 - 2**2 *2"
   ]
  },
  {
   "cell_type": "code",
   "execution_count": null,
   "id": "04353977",
   "metadata": {},
   "outputs": [
    {
     "data": {
      "text/plain": [
       "25"
      ]
     },
     "execution_count": 3,
     "metadata": {},
     "output_type": "execute_result"
    }
   ],
   "source": [
    "5+10 #運算式\n",
    "20+5 #運算式"
   ]
  },
  {
   "cell_type": "markdown",
   "id": "24e53f3f",
   "metadata": {},
   "source": [
    "### 建立變數\n",
    "- 依靠指定運算子\n"
   ]
  },
  {
   "cell_type": "code",
   "execution_count": null,
   "id": "e6052057",
   "metadata": {},
   "outputs": [
    {
     "name": "stdout",
     "output_type": "stream",
     "text": [
      "total= 40\n"
     ]
    }
   ],
   "source": [
    "n = 15 #敘述式\n",
    "m = 25 #敘述式\n",
    "#n\n",
    "total = m + n # 等於 是指定運算子 +號是算術運算子 #敘述式\n",
    "print(\"total=\", total) #敘述式\n"
   ]
  },
  {
   "cell_type": "code",
   "execution_count": 8,
   "id": "8085c76b",
   "metadata": {},
   "outputs": [
    {
     "name": "stdout",
     "output_type": "stream",
     "text": [
      "15 25\n"
     ]
    }
   ],
   "source": [
    "x = 5 + 10\n",
    "y = 20 + 5\n",
    "print(x,y)"
   ]
  },
  {
   "cell_type": "markdown",
   "id": "67d61c54",
   "metadata": {},
   "source": [
    "### 輸入\n",
    "- input()\n",
    "### 輸出\n",
    "- print()"
   ]
  },
  {
   "cell_type": "code",
   "execution_count": 10,
   "id": "d9a3563e",
   "metadata": {},
   "outputs": [
    {
     "name": "stdout",
     "output_type": "stream",
     "text": [
      "您輸入的是: 66\n"
     ]
    }
   ],
   "source": [
    "value_str = input(\"請輸入整數:\")\n",
    "true_value = int(value_str)\n",
    "print(\"您輸入的是:\",true_value)"
   ]
  },
  {
   "cell_type": "code",
   "execution_count": null,
   "id": "feaa0f52",
   "metadata": {},
   "outputs": [],
   "source": [
    "value = int(input(\"請輸入整數:\")) \n",
    "print(\"您輸入的整數是:\",value)"
   ]
  },
  {
   "cell_type": "code",
   "execution_count": 12,
   "id": "e34035f6",
   "metadata": {},
   "outputs": [
    {
     "name": "stdout",
     "output_type": "stream",
     "text": [
      "您輸入的兩數相加是: 127\n"
     ]
    }
   ],
   "source": [
    "value1 = int(input(\"請輸入第一個整數:\")) \n",
    "value2 = int(input(\"請輸入第二個整數:\")) \n",
    "total = value1 + value2\n",
    "print(\"您輸入的兩數相加是:\",total)"
   ]
  },
  {
   "cell_type": "code",
   "execution_count": 13,
   "id": "50fb5cf3",
   "metadata": {},
   "outputs": [
    {
     "name": "stdout",
     "output_type": "stream",
     "text": [
      "矩形寬是: 15.5\n",
      "矩形高是: 36.6\n",
      "矩形面積是: 567.3000000000001\n"
     ]
    }
   ],
   "source": [
    "width = eval(input(\"請輸入矩形寬:\")) \n",
    "height = eval(input(\"請輸入矩形高:\")) \n",
    "area = width * height\n",
    "print(\"矩形寬是:\" , width)\n",
    "print(\"矩形高是:\" , height)\n",
    "print(\"矩形面積是:\", area)"
   ]
  }
 ],
 "metadata": {
  "kernelspec": {
   "display_name": "base",
   "language": "python",
   "name": "python3"
  },
  "language_info": {
   "codemirror_mode": {
    "name": "ipython",
    "version": 3
   },
   "file_extension": ".py",
   "mimetype": "text/x-python",
   "name": "python",
   "nbconvert_exporter": "python",
   "pygments_lexer": "ipython3",
   "version": "3.12.9"
  }
 },
 "nbformat": 4,
 "nbformat_minor": 5
}
