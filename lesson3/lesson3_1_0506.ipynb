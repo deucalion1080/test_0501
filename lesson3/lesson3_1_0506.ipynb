{
 "cells": [
  {
   "cell_type": "markdown",
   "id": "194784af",
   "metadata": {},
   "source": [
    "### 數值運算 例如 int float\n",
    "### 數學運算子\n",
    "### 運算子運算順序"
   ]
  },
  {
   "cell_type": "markdown",
   "id": "c549cf70",
   "metadata": {},
   "source": [
    "### 變更 => 暫存的變更 => 提交(需要說明!!) =>同步"
   ]
  },
  {
   "cell_type": "code",
   "execution_count": 1,
   "id": "094e71e8",
   "metadata": {},
   "outputs": [
    {
     "data": {
      "text/plain": [
       "10"
      ]
     },
     "execution_count": 1,
     "metadata": {},
     "output_type": "execute_result"
    }
   ],
   "source": [
    "2* (1+2)**2 - 2**2 *2"
   ]
  },
  {
   "cell_type": "code",
   "execution_count": null,
   "id": "04353977",
   "metadata": {},
   "outputs": [
    {
     "data": {
      "text/plain": [
       "25"
      ]
     },
     "execution_count": 3,
     "metadata": {},
     "output_type": "execute_result"
    }
   ],
   "source": [
    "5+10 #運算式\n",
    "20+5 #運算式"
   ]
  },
  {
   "cell_type": "markdown",
   "id": "24e53f3f",
   "metadata": {},
   "source": [
    "### 建立變數\n",
    "- 依靠指定運算子\n"
   ]
  },
  {
   "cell_type": "code",
   "execution_count": null,
   "id": "e6052057",
   "metadata": {},
   "outputs": [
    {
     "name": "stdout",
     "output_type": "stream",
     "text": [
      "total= 40\n"
     ]
    }
   ],
   "source": [
    "n = 15 #敘述式\n",
    "m = 25 #敘述式\n",
    "#n\n",
    "total = m + n # 等於 是指定運算子 +號是算術運算子 #敘述式\n",
    "print(\"total=\", total) #敘述式\n"
   ]
  },
  {
   "cell_type": "code",
   "execution_count": 8,
   "id": "8085c76b",
   "metadata": {},
   "outputs": [
    {
     "name": "stdout",
     "output_type": "stream",
     "text": [
      "15 25\n"
     ]
    }
   ],
   "source": [
    "x = 5 + 10\n",
    "y = 20 + 5\n",
    "print(x,y)"
   ]
  }
 ],
 "metadata": {
  "kernelspec": {
   "display_name": "base",
   "language": "python",
   "name": "python3"
  },
  "language_info": {
   "codemirror_mode": {
    "name": "ipython",
    "version": 3
   },
   "file_extension": ".py",
   "mimetype": "text/x-python",
   "name": "python",
   "nbconvert_exporter": "python",
   "pygments_lexer": "ipython3",
   "version": "3.12.9"
  }
 },
 "nbformat": 4,
 "nbformat_minor": 5
}
