{
 "cells": [
  {
   "cell_type": "markdown",
   "id": "194784af",
   "metadata": {},
   "source": [
    "### 數值運算 例如 int float\n",
    "### 數學運算子\n",
    "### 運算子運算順序"
   ]
  },
  {
   "cell_type": "markdown",
   "id": "c549cf70",
   "metadata": {},
   "source": [
    "### 變更 => 暫存的變更 => 提交(說明!!)"
   ]
  },
  {
   "cell_type": "code",
   "execution_count": 1,
   "id": "094e71e8",
   "metadata": {},
   "outputs": [
    {
     "data": {
      "text/plain": [
       "10"
      ]
     },
     "execution_count": 1,
     "metadata": {},
     "output_type": "execute_result"
    }
   ],
   "source": [
    "2* (1+2)**2 - 2**2 *2"
   ]
  }
 ],
 "metadata": {
  "kernelspec": {
   "display_name": "base",
   "language": "python",
   "name": "python3"
  },
  "language_info": {
   "codemirror_mode": {
    "name": "ipython",
    "version": 3
   },
   "file_extension": ".py",
   "mimetype": "text/x-python",
   "name": "python",
   "nbconvert_exporter": "python",
   "pygments_lexer": "ipython3",
   "version": "3.12.9"
  }
 },
 "nbformat": 4,
 "nbformat_minor": 5
}
