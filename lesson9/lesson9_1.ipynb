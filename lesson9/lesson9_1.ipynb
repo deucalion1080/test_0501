{
 "cells": [
  {
   "cell_type": "code",
   "execution_count": 12,
   "id": "bf0ebbc2",
   "metadata": {},
   "outputs": [],
   "source": [
    "from dataclasses import dataclass\n",
    "\n",
    "@dataclass\n",
    "class Student:\n",
    "    name : str\n",
    "    chinese:int\n",
    "    english:int\n",
    "    math:int\n",
    "\n",
    "    @property\n",
    "    def total(self) ->int:\n",
    "        return self.chinese + self.english + self.math\n"
   ]
  },
  {
   "cell_type": "code",
   "execution_count": 13,
   "id": "924eb5cc",
   "metadata": {},
   "outputs": [
    {
     "name": "stdout",
     "output_type": "stream",
     "text": [
      "<class '__main__.Student'>\n",
      "Simon 88 90 96\n"
     ]
    },
    {
     "data": {
      "text/plain": [
       "274"
      ]
     },
     "execution_count": 13,
     "metadata": {},
     "output_type": "execute_result"
    }
   ],
   "source": [
    "stu1 = Student(name=\"Simon\" ,chinese=88 , english= 90, math=96)\n",
    "print(type(stu1))\n",
    "print(stu1.name ,stu1.chinese ,stu1.english,stu1.math )\n",
    "stu1.total"
   ]
  },
  {
   "cell_type": "code",
   "execution_count": null,
   "id": "e32ba775",
   "metadata": {},
   "outputs": [
    {
     "name": "stdout",
     "output_type": "stream",
     "text": [
      "<class '__main__.Student'>\n"
     ]
    },
    {
     "data": {
      "text/plain": [
       "203"
      ]
     },
     "execution_count": 14,
     "metadata": {},
     "output_type": "execute_result"
    }
   ],
   "source": [
    "stu2 = Student(name=\"Amber\" ,chinese=69 , english= 68, math=66)\n",
    "print(type(stu2))\n",
    "print(stu2.name ,stu2.chinese ,stu2.english,stu2.math )\n",
    "stu2.total"
   ]
  }
 ],
 "metadata": {
  "kernelspec": {
   "display_name": "base",
   "language": "python",
   "name": "python3"
  },
  "language_info": {
   "codemirror_mode": {
    "name": "ipython",
    "version": 3
   },
   "file_extension": ".py",
   "mimetype": "text/x-python",
   "name": "python",
   "nbconvert_exporter": "python",
   "pygments_lexer": "ipython3",
   "version": "3.12.9"
  }
 },
 "nbformat": 4,
 "nbformat_minor": 5
}
