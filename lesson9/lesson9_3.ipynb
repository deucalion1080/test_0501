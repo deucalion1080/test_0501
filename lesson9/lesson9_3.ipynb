{
 "cells": [
  {
   "cell_type": "markdown",
   "id": "c3e34dc7",
   "metadata": {},
   "source": [
    "### list實體"
   ]
  },
  {
   "cell_type": "code",
   "execution_count": 2,
   "id": "a5675864",
   "metadata": {},
   "outputs": [
    {
     "name": "stdout",
     "output_type": "stream",
     "text": [
      "<class 'list'>\n"
     ]
    }
   ],
   "source": [
    "list1 = [69,88,96,87,77]\n",
    "print(type(list1))"
   ]
  },
  {
   "cell_type": "code",
   "execution_count": null,
   "id": "23a3723a",
   "metadata": {},
   "outputs": [
    {
     "data": {
      "text/plain": [
       "69"
      ]
     },
     "execution_count": 5,
     "metadata": {},
     "output_type": "execute_result"
    }
   ],
   "source": [
    "#內建function\n",
    "max(list1)\n",
    "min(list1)"
   ]
  },
  {
   "cell_type": "code",
   "execution_count": 8,
   "id": "3428d5af",
   "metadata": {},
   "outputs": [],
   "source": [
    "#實體方法\n",
    "list1.append(100)"
   ]
  },
  {
   "cell_type": "code",
   "execution_count": 10,
   "id": "0bd62b79",
   "metadata": {},
   "outputs": [],
   "source": [
    "list1.extend([66,99])"
   ]
  },
  {
   "cell_type": "code",
   "execution_count": 12,
   "id": "3b5d1d3e",
   "metadata": {},
   "outputs": [
    {
     "data": {
      "text/plain": [
       "99"
      ]
     },
     "execution_count": 12,
     "metadata": {},
     "output_type": "execute_result"
    }
   ],
   "source": [
    "list1.pop()"
   ]
  },
  {
   "cell_type": "code",
   "execution_count": 13,
   "id": "7cb3e54b",
   "metadata": {},
   "outputs": [
    {
     "data": {
      "text/plain": [
       "[69, 88, 96, 87, 77, 100, 100, 66]"
      ]
     },
     "execution_count": 13,
     "metadata": {},
     "output_type": "execute_result"
    }
   ],
   "source": [
    "list1"
   ]
  }
 ],
 "metadata": {
  "kernelspec": {
   "display_name": "base",
   "language": "python",
   "name": "python3"
  },
  "language_info": {
   "codemirror_mode": {
    "name": "ipython",
    "version": 3
   },
   "file_extension": ".py",
   "mimetype": "text/x-python",
   "name": "python",
   "nbconvert_exporter": "python",
   "pygments_lexer": "ipython3",
   "version": "3.12.9"
  }
 },
 "nbformat": 4,
 "nbformat_minor": 5
}
