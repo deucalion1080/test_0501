{
 "cells": [
  {
   "cell_type": "code",
   "execution_count": 1,
   "id": "7fae2e2b",
   "metadata": {},
   "outputs": [
    {
     "name": "stdout",
     "output_type": "stream",
     "text": [
      "Hello! python!!!\n"
     ]
    }
   ],
   "source": [
    "print(\"Hello! python!!!\")"
   ]
  },
  {
   "cell_type": "code",
   "execution_count": null,
   "id": "be9b5c9a",
   "metadata": {},
   "outputs": [],
   "source": [
    "print(\"love amber?!\")"
   ]
  }
 ],
 "metadata": {
  "kernelspec": {
   "display_name": "base",
   "language": "python",
   "name": "python3"
  },
  "language_info": {
   "codemirror_mode": {
    "name": "ipython",
    "version": 3
   },
   "file_extension": ".py",
   "mimetype": "text/x-python",
   "name": "python",
   "nbconvert_exporter": "python",
   "pygments_lexer": "ipython3",
   "version": "3.12.9"
  }
 },
 "nbformat": 4,
 "nbformat_minor": 5
}
