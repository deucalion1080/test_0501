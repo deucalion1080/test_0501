{
 "cells": [
  {
   "cell_type": "markdown",
   "id": "71a4bdf2",
   "metadata": {},
   "source": [
    "### 迴圈\n",
    "### for...in...\n"
   ]
  },
  {
   "cell_type": "code",
   "execution_count": null,
   "id": "55ef8389",
   "metadata": {},
   "outputs": [],
   "source": [
    "#1~10 相加總合\n",
    "n = 0\n",
    "n +=1\n",
    "...\n",
    "n +=10\n"
   ]
  },
  {
   "cell_type": "code",
   "execution_count": 8,
   "id": "de5b9581",
   "metadata": {},
   "outputs": [
    {
     "name": "stdout",
     "output_type": "stream",
     "text": [
      "0\n",
      "1\n",
      "2\n",
      "3\n",
      "4\n"
     ]
    }
   ],
   "source": [
    "# range\n",
    "for i in range(5):\n",
    "    print(i)"
   ]
  },
  {
   "cell_type": "code",
   "execution_count": 6,
   "id": "3145a1b9",
   "metadata": {},
   "outputs": [
    {
     "name": "stdout",
     "output_type": "stream",
     "text": [
      "1\n",
      "2\n",
      "3\n",
      "4\n"
     ]
    }
   ],
   "source": [
    "for i in range(1,5):\n",
    "    print(i)"
   ]
  },
  {
   "cell_type": "code",
   "execution_count": 7,
   "id": "cf5bdd16",
   "metadata": {},
   "outputs": [
    {
     "name": "stdout",
     "output_type": "stream",
     "text": [
      "1\n",
      "3\n",
      "5\n",
      "7\n",
      "9\n"
     ]
    }
   ],
   "source": [
    "for i in range(1,10,2):\n",
    "    print(i)"
   ]
  },
  {
   "cell_type": "code",
   "execution_count": 9,
   "id": "9e2429e8",
   "metadata": {},
   "outputs": [
    {
     "name": "stdout",
     "output_type": "stream",
     "text": [
      "total=55\n"
     ]
    }
   ],
   "source": [
    "n = int(input(\"請輸入一個n值:\")) \n",
    "total = 0\n",
    "for i in range(1,n+1):\n",
    "    total += i\n",
    "\n",
    "print(f\"total={total}\")"
   ]
  }
 ],
 "metadata": {
  "kernelspec": {
   "display_name": "base",
   "language": "python",
   "name": "python3"
  },
  "language_info": {
   "codemirror_mode": {
    "name": "ipython",
    "version": 3
   },
   "file_extension": ".py",
   "mimetype": "text/x-python",
   "name": "python",
   "nbconvert_exporter": "python",
   "pygments_lexer": "ipython3",
   "version": "3.12.9"
  }
 },
 "nbformat": 4,
 "nbformat_minor": 5
}
