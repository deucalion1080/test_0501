{
 "cells": [
  {
   "cell_type": "code",
   "execution_count": 3,
   "id": "b40621af",
   "metadata": {},
   "outputs": [
    {
     "name": "stdout",
     "output_type": "stream",
     "text": [
      "甲\n"
     ]
    }
   ],
   "source": [
    "scores = int(input(\"請輸入學生分數(0~100):\")) \n",
    "if scores <60:\n",
    "    print(\"丁\")\n",
    "elif scores < 70:\n",
    "    print(\"丙\")\n",
    "elif scores < 80:\n",
    "    print(\"乙\")\n",
    "elif scores < 90:\n",
    "    print(\"甲\")\n",
    "else:\n",
    "    print(\"優\")\n",
    "#一組if 最多執行一個程式區段\n"
   ]
  }
 ],
 "metadata": {
  "kernelspec": {
   "display_name": "base",
   "language": "python",
   "name": "python3"
  },
  "language_info": {
   "codemirror_mode": {
    "name": "ipython",
    "version": 3
   },
   "file_extension": ".py",
   "mimetype": "text/x-python",
   "name": "python",
   "nbconvert_exporter": "python",
   "pygments_lexer": "ipython3",
   "version": "3.12.9"
  }
 },
 "nbformat": 4,
 "nbformat_minor": 5
}
