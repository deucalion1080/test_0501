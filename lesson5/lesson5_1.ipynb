{
 "cells": [
  {
   "cell_type": "code",
   "execution_count": 3,
   "id": "b40621af",
   "metadata": {},
   "outputs": [
    {
     "name": "stdout",
     "output_type": "stream",
     "text": [
      "甲\n"
     ]
    }
   ],
   "source": [
    "scores = int(input(\"請輸入學生分數(0~100):\")) \n",
    "if scores <60:\n",
    "    print(\"丁\")\n",
    "elif scores < 70:\n",
    "    print(\"丙\")\n",
    "elif scores < 80:\n",
    "    print(\"乙\")\n",
    "elif scores < 90:\n",
    "    print(\"甲\")\n",
    "else:\n",
    "    print(\"優\")\n",
    "#一組if 最多執行一個程式區段\n"
   ]
  },
  {
   "cell_type": "markdown",
   "id": "ce4c9bd6",
   "metadata": {},
   "source": [
    "### 組合2個條件\n",
    "- 巢狀判斷\n",
    "- 邏輯運算子 (and 或 or)"
   ]
  },
  {
   "cell_type": "code",
   "execution_count": 8,
   "id": "9c698b51",
   "metadata": {},
   "outputs": [
    {
     "name": "stdout",
     "output_type": "stream",
     "text": [
      "獎金 $0元\n"
     ]
    }
   ],
   "source": [
    "#國文100分 同時 數學100分 => 獎金 $1000\n",
    "#其中一科目100分 => 獎金 $500\n",
    "\n",
    "chinese = int(input(\"請輸入國文分數:\")) \n",
    "math = int(input(\"請輸入數學分數:\")) \n",
    "\n",
    "if chinese == 100 and math == 100 :\n",
    "    print(\"獎金 $1000\")\n",
    "elif chinese == 100 or math == 100 :\n",
    "    print(\"獎金 $500\")\n",
    "else:\n",
    "    print(\"獎金 $0元\")"
   ]
  }
 ],
 "metadata": {
  "kernelspec": {
   "display_name": "base",
   "language": "python",
   "name": "python3"
  },
  "language_info": {
   "codemirror_mode": {
    "name": "ipython",
    "version": 3
   },
   "file_extension": ".py",
   "mimetype": "text/x-python",
   "name": "python",
   "nbconvert_exporter": "python",
   "pygments_lexer": "ipython3",
   "version": "3.12.9"
  }
 },
 "nbformat": 4,
 "nbformat_minor": 5
}
