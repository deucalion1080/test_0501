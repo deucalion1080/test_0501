{
 "cells": [
  {
   "cell_type": "code",
   "execution_count": null,
   "id": "9862769c",
   "metadata": {},
   "outputs": [
    {
     "name": "stdout",
     "output_type": "stream",
     "text": [
      "你輸入的身高為179.1公分,體重為76公斤\n",
      "你的BMI為23.69\n",
      "體重正常!\n",
      "BMI偵測結束!\n"
     ]
    }
   ],
   "source": [
    "#BMI 偵測體質版本 + elif\n",
    "try:\n",
    "    height:float = float(input(\"請輸入您的身高(要120~220公分之間):\"))\n",
    "    if height <120 or height >220 :\n",
    "        raise Exception(f\"您輸入的身高是:{height} 超出範圍!請重新輸入\")\n",
    "    weight:float = float(input(\"請輸入您的體重(要30~200公斤之間):\"))\n",
    "    if weight <30 or weight >200 :\n",
    "        raise Exception(f\"您輸入的體重是:{weight} 超出範圍!請重新輸入\")\n",
    "    BMI = weight/(height/100)**2\n",
    "    \n",
    "except ValueError:       \n",
    "     print(\"輸入值錯誤!請重新輸入!\")    \n",
    "except Exception as error:\n",
    "    print(error)\n",
    "else:   \n",
    "    print(f\"您的身高是:{height}公分\")\n",
    "    print(f\"您的體重是:{weight}公斤\")\n",
    "    print(f\"您的BMI結果是:{BMI:.2f}\")\n",
    "    if BMI < 18.5 :\n",
    "        print(\"體重過輕!\")\n",
    "    elif BMI < 24 :\n",
    "        print(\"體重正常!\")\n",
    "    elif BMI < 27 :\n",
    "        print(\"體重過重!\")\n",
    "    elif BMI < 30 :\n",
    "        print(\"體重輕度肥胖!\")\n",
    "    elif BMI < 35 :\n",
    "        print(\"體重中度肥胖!\")\n",
    "    else :\n",
    "        print(\"體重重度肥胖!\")\n",
    "print(\"BMI偵測結束!\")\n"
   ]
  }
 ],
 "metadata": {
  "kernelspec": {
   "display_name": "base",
   "language": "python",
   "name": "python3"
  },
  "language_info": {
   "codemirror_mode": {
    "name": "ipython",
    "version": 3
   },
   "file_extension": ".py",
   "mimetype": "text/x-python",
   "name": "python",
   "nbconvert_exporter": "python",
   "pygments_lexer": "ipython3",
   "version": "3.12.9"
  }
 },
 "nbformat": 4,
 "nbformat_minor": 5
}
