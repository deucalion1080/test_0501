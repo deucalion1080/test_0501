{
 "cells": [
  {
   "cell_type": "markdown",
   "id": "1cc7fd19",
   "metadata": {},
   "source": [
    "### while\n",
    "### while是不知道執行次數的判斷"
   ]
  },
  {
   "cell_type": "code",
   "execution_count": null,
   "id": "ccdd5faf",
   "metadata": {},
   "outputs": [
    {
     "name": "stdout",
     "output_type": "stream",
     "text": [
      "恭喜!存了5個月已經存了35000元\n"
     ]
    }
   ],
   "source": [
    "#買機車 機車約30000元 將每月薪水存入 足夠後顯示跳出訊息通知\n",
    "salary = 0\n",
    "month = 0\n",
    "while(salary < 30000):\n",
    "    month += 1\n",
    "    input_value = int(input(f\"請輸入第{month}月份存入金額:\"))\n",
    "    salary += input_value\n",
    "\n",
    "print(f\"恭喜!已經存了{month}個月,總共存了{salary}元\")"
   ]
  }
 ],
 "metadata": {
  "kernelspec": {
   "display_name": "base",
   "language": "python",
   "name": "python3"
  },
  "language_info": {
   "codemirror_mode": {
    "name": "ipython",
    "version": 3
   },
   "file_extension": ".py",
   "mimetype": "text/x-python",
   "name": "python",
   "nbconvert_exporter": "python",
   "pygments_lexer": "ipython3",
   "version": "3.12.9"
  }
 },
 "nbformat": 4,
 "nbformat_minor": 5
}
