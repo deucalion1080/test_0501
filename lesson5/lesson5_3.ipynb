{
 "cells": [
  {
   "cell_type": "markdown",
   "id": "1cc7fd19",
   "metadata": {},
   "source": [
    "### while\n",
    "### while是不知道執行次數的判斷"
   ]
  },
  {
   "cell_type": "code",
   "execution_count": 2,
   "id": "ccdd5faf",
   "metadata": {},
   "outputs": [
    {
     "name": "stdout",
     "output_type": "stream",
     "text": [
      "恭喜!已經存了1個月,總共存了62000元\n"
     ]
    }
   ],
   "source": [
    "#買機車 機車約30000元 將每月薪水存入 足夠後顯示跳出訊息通知\n",
    "salary = 0\n",
    "month = 0\n",
    "while(salary < 30000):\n",
    "    month += 1\n",
    "    input_value = int(input(f\"請輸入第{month}月份存入金額:\"))\n",
    "    salary += input_value\n",
    "\n",
    "print(f\"恭喜!已經存了{month}個月,總共存了{salary}元\")"
   ]
  },
  {
   "cell_type": "markdown",
   "id": "e73c21f0",
   "metadata": {},
   "source": [
    "### 使用break,continue"
   ]
  },
  {
   "cell_type": "code",
   "execution_count": 6,
   "id": "9f84e464",
   "metadata": {},
   "outputs": [
    {
     "name": "stdout",
     "output_type": "stream",
     "text": [
      "您輸入的值為9,9的平方為81\n",
      "程式結束!\n"
     ]
    }
   ],
   "source": [
    "#奇數做平方\n",
    "#偶數不做任何動作\n",
    "#\"q\"要離開\n",
    "\n",
    "while(True):\n",
    "    value = input(\"請輸入一個整數,輸入q就可以來離開!\")\n",
    "    if value ==\"q\":\n",
    "        break\n",
    "    elif (int(value) % 2 ==0 ):\n",
    "        continue\n",
    "    else:\n",
    "        print(f\"您輸入的值為{value},{value}的平方為{int(value)**2}\")\n",
    "print(\"程式結束!\")"
   ]
  }
 ],
 "metadata": {
  "kernelspec": {
   "display_name": "base",
   "language": "python",
   "name": "python3"
  },
  "language_info": {
   "codemirror_mode": {
    "name": "ipython",
    "version": 3
   },
   "file_extension": ".py",
   "mimetype": "text/x-python",
   "name": "python",
   "nbconvert_exporter": "python",
   "pygments_lexer": "ipython3",
   "version": "3.12.9"
  }
 },
 "nbformat": 4,
 "nbformat_minor": 5
}
